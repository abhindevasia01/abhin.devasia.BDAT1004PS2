{
 "cells": [
  {
   "cell_type": "markdown",
   "id": "7562b39d-8cb3-471e-b128-e2e5a570aea9",
   "metadata": {},
   "source": [
    "# Question 1"
   ]
  },
  {
   "cell_type": "markdown",
   "id": "8909991a-20d0-470d-b481-502dae4ab12e",
   "metadata": {},
   "source": [
    "Consider the following Python module:\r\n",
    "a = 0 \r\n",
    "def b():\r\n",
    "global a\r\n",
    "a = c(a)\r\n",
    "def c(a):\r\n",
    "return a + 2\r\n",
    "After importing the module into the interpreter, you e\n",
    "What value is displayed when the last expression (a) is evaluated? Explain your answer by indicating what happens in every executed statementxecute:ted statement."
   ]
  },
  {
   "cell_type": "code",
   "execution_count": 45,
   "id": "8cd8c3d2-31d2-47fa-a2af-1b7c1a3021a9",
   "metadata": {},
   "outputs": [
    {
     "data": {
      "text/plain": [
       "6"
      ]
     },
     "execution_count": 45,
     "metadata": {},
     "output_type": "execute_result"
    }
   ],
   "source": [
    "#!/usr/bin/python3\n",
    "a = 0 \n",
    "def b():\n",
    "    global a\n",
    "    a = c(a)\n",
    "def c(a):\n",
    "    return a + 2\n",
    "b()\n",
    "b()\n",
    "b()\n",
    "a\n",
    "\n",
    "#op: 6\n",
    "#ans: the value displayed is 6, after executing b() for the first time, \n",
    "#c(a) gets executed with value of a as 0, and as the value is returned for a, the value of a gets updated to 0+2=2,\n",
    "#on the second executon the value of a will be 2 at first and the returned value will be 4\n",
    "# on the next ecectuion the value of a will be a first and returned value will be 6\n",
    "# hence when running the last input a, result will be 6"
   ]
  },
  {
   "cell_type": "markdown",
   "id": "efadcbe3-5522-413d-a7ea-13099254bf8f",
   "metadata": {},
   "source": [
    "# Question 2"
   ]
  },
  {
   "cell_type": "markdown",
   "id": "4b2e994d-d3c4-4871-bb56-9e6b7321b77a",
   "metadata": {},
   "source": [
    "Function fileLength(), given to you, takes the name of a file as input and returns \r\n",
    "the length of the file'idterm.py'\r\n",
    "As shown above, if the file cannot be found by the interpreter or if it cannot be read \r\n",
    "as a text file, an exception will be raised. Modify function fileLength() so that a \r\n",
    "friendly message is printed instead"
   ]
  },
  {
   "cell_type": "code",
   "execution_count": 53,
   "id": "8ea8aa98-7555-4b93-9d6f-4ff8d43dc9ba",
   "metadata": {},
   "outputs": [
    {
     "name": "stdout",
     "output_type": "stream",
     "text": [
      "File Filelengt.txt not found.\n"
     ]
    }
   ],
   "source": [
    "#!/usr/bin/python3\n",
    "def filelength(filename):\n",
    "    try:\n",
    "        with open(filename,'r') as file:\n",
    "            lines=file.read()\n",
    "            return len(lines)\n",
    "    except FileNotFoundError:\n",
    "        print(f\"File {filename} not found.\")\n",
    "\n",
    "filelength(\"Filelength.txt\")\n",
    "#op:123\n",
    "filelength(\"Filelengt.txt\")\n",
    "#op:File Filelengt.txt not found."
   ]
  },
  {
   "cell_type": "markdown",
   "id": "625dff75-d809-4ca9-b173-a12531506723",
   "metadata": {},
   "source": [
    "# Question3 "
   ]
  },
  {
   "cell_type": "markdown",
   "id": "67fdcf75-207a-4055-a9b7-4a0253a3bc98",
   "metadata": {},
   "source": [
    "\n",
    "Write a class named Marsupial that can be used as shown below:Now write a class named Kangaroo as a subclass of Marsupial that inherits all the \r\n",
    "attributes of Marsupial and also:\r\n",
    "a. extends the Marsupial __init__ constructor to take, as input, the\r\n",
    "coordinates x and y of the Kangaroo object,\r\n",
    "b. supports method jump that takes number values dx and dy as input and \r\n",
    "movesthe kangaroo by dx units along the x-axis and by dy units along the y\u0002axis, and\r\n",
    "c. overloads the __str__ operator so it behaves as shown below\r"
   ]
  },
  {
   "cell_type": "code",
   "execution_count": 122,
   "id": "11b2ffff-764b-4394-b87a-a0eec0d31d3b",
   "metadata": {},
   "outputs": [
    {
     "name": "stdout",
     "output_type": "stream",
     "text": [
      "I am a Kangaroo located at coordinates (0,0)\n",
      "I am a Kangaroo located at coordinates (3,0)\n"
     ]
    }
   ],
   "source": [
    "#!/usr/bin/python3\n",
    "class  Marsupial:\n",
    "    def __init__(self):\n",
    "        self.pouch=[]\n",
    "    def put_in_pouch(self,item):\n",
    "        self.pouch.append(item)\n",
    "    def pouch_contents(self):\n",
    "        return self.pouch\n",
    "m=Marsupial()\n",
    "m.put_in_pouch(\"doll\")\n",
    "m.put_in_pouch(\"firetruck\")\n",
    "m.put_in_pouch(\"kitten\")\n",
    "m.pouch_contents()\n",
    "#op:['doll', 'firetruck', 'kitten']\n",
    "\n",
    "class Kangaroo(Marsupial):\n",
    "    def __init__(self,x,y):\n",
    "        super().__init__()\n",
    "        self.x=x\n",
    "        self.y=y\n",
    "    def jump(self,dx,dy):\n",
    "        self.x+=dx\n",
    "        self.y+=dy\n",
    "    def __str__(self):\n",
    "        return f\"I am a Kangaroo located at coordinates ({self.x},{self.y})\"\n",
    "k = Kangaroo(0,0)\n",
    "print(k)\n",
    "#op: I am a Kangaroo located at coordinates (0,0)\n",
    "k.pouch_contents()\n",
    "k.jump(1,0)\n",
    "k.jump(1,0)\n",
    "k.jump(1,0)\n",
    "print(k)\n",
    "#op: I am a Kangaroo located at coordinates (3,0)"
   ]
  },
  {
   "cell_type": "markdown",
   "id": "adbfa959-144c-4b3a-9743-a8a8ed0516c5",
   "metadata": {},
   "source": [
    "# Question 4"
   ]
  },
  {
   "cell_type": "markdown",
   "id": "93a7f0bc-4698-41b2-b1b1-e7731753cd94",
   "metadata": {},
   "source": [
    "Write function collatz() that takes a positive integer x as input and prints the \r\n",
    "Collatz sequence starting at x. A Collatz sequence is obtained by repeatedly applying \r\n",
    "this rule to the previous number x in the sequence:\r\n",
    "x = {\r\n",
    "𝑥/2 𝑖𝑓 𝑥 𝑖𝑠 𝑒𝑣𝑒𝑛3𝑥\r\n",
    "+1 𝑖𝑓 𝑥 𝑖𝑠 𝑜𝑑𝑑\r\n",
    "Your function should stop when the sequence gets to number 1. Your \r\n",
    "implementation must be recursive, without any loops"
   ]
  },
  {
   "cell_type": "code",
   "execution_count": 124,
   "id": "da7bdace-7ebb-4b47-b536-6ed7ab260f76",
   "metadata": {},
   "outputs": [
    {
     "name": "stdout",
     "output_type": "stream",
     "text": [
      "10\n",
      "5\n",
      "16\n",
      "8\n",
      "4\n",
      "2\n",
      "1\n"
     ]
    },
    {
     "data": {
      "text/plain": [
       "'\\nop:\\n10\\n5\\n16\\n8\\n4\\n2\\n1 \\n'"
      ]
     },
     "execution_count": 124,
     "metadata": {},
     "output_type": "execute_result"
    }
   ],
   "source": [
    "#!/usr/bin/python3\n",
    "def collatz(x):\n",
    "    print(x)\n",
    "    if x ==1:\n",
    "        return\n",
    "    elif x%2==0:\n",
    "        collatz(int(x/2))\n",
    "    else:\n",
    "        collatz(3*x+1)\n",
    "collatz(10)\n",
    "'''\n",
    "op:\n",
    "10\n",
    "5\n",
    "16\n",
    "8\n",
    "4\n",
    "2\n",
    "1 \n",
    "'''"
   ]
  },
  {
   "cell_type": "markdown",
   "id": "a7c60f05-8eaf-4a2c-9036-5785bb32f11e",
   "metadata": {},
   "source": [
    "# Question 5"
   ]
  },
  {
   "cell_type": "markdown",
   "id": "f37c7e28-5397-4de7-9551-677f6205e8a6",
   "metadata": {},
   "source": [
    "Write a recursive method binary() that takes a non-negative \r\n",
    "integer n and prints the binary representation of integer n\r"
   ]
  },
  {
   "cell_type": "code",
   "execution_count": 176,
   "id": "d733849b-fba7-4d07-bbdb-69957c8160d9",
   "metadata": {},
   "outputs": [],
   "source": [
    "#!/usr/bin/python3\n",
    "def binary(inp):\n",
    "    if inp<=1:\n",
    "        print(inp,end='')\n",
    "    else:\n",
    "        binary(inp // 2)\n",
    "        print(inp%2,end='')\n",
    "#binary(0)\n",
    "#op: 0\n",
    "#binary(1)\n",
    "#op: 1\n",
    "#binary(3)\n",
    "#op: 11\n",
    "#binary(9)\n",
    "#op: 1001"
   ]
  },
  {
   "cell_type": "markdown",
   "id": "eafdfe0f-e850-4c25-b9f7-910afb165326",
   "metadata": {},
   "source": [
    "# Question 6"
   ]
  },
  {
   "cell_type": "markdown",
   "id": "e267d743-72e0-4842-b67a-b30982be3d26",
   "metadata": {},
   "source": [
    "Implement a class named HeadingParser that can be used to parse an HTML \r\n",
    "document, and retrieve and print all the headings in the document. You should \r\n",
    "implement your class as a subclass of HTMLParser, defined in Standard Library \r\n",
    "module html.parser. When fed a string containing HTML code, your class should \r\n",
    "print the headings, one per line and in the order in which they appear in the \r\n",
    "document.Each heading should be indented asfollows: an h1 heading should indentation 0, and h2 heading should have indentation 1, etc. Test your \r\n",
    "implementation using w3c.html. have"
   ]
  },
  {
   "cell_type": "code",
   "execution_count": 42,
   "id": "445ac522-e4c9-44b9-9620-1c2ef04555dd",
   "metadata": {},
   "outputs": [
    {
     "name": "stdout",
     "output_type": "stream",
     "text": [
      "\n",
      "\n",
      "\n",
      "\n",
      "\n",
      "Change_me\n",
      "\n",
      "\n",
      "\n",
      "\n",
      "\n",
      "\n",
      "W3C Mission\n",
      "\n",
      " Principles\n",
      "\n",
      "\n"
     ]
    },
    {
     "data": {
      "text/plain": [
       "'\\nop:\\n\\n\\n\\n\\nChange_me\\n\\n\\n\\n\\n\\n\\nW3C Mission\\n\\n Principles\\n '"
      ]
     },
     "execution_count": 42,
     "metadata": {},
     "output_type": "execute_result"
    }
   ],
   "source": [
    "#!/usr/bin/python3\n",
    "from html.parser import HTMLParser\n",
    "\n",
    "class HeadingParser(HTMLParser):\n",
    "    def __init__(self):\n",
    "        super().__init__()\n",
    "        self.indent_level = 0\n",
    "        self.headings = []\n",
    "\n",
    "    def handle_starttag(self, tag, attrs):\n",
    "        if tag.startswith('h') and tag[1].isdigit():\n",
    "            self.indent_level = int(tag[1]) - 1\n",
    "\n",
    "    def handle_endtag(self, tag):\n",
    "        if tag.startswith('h') and tag[1].isdigit():\n",
    "            self.indent_level = 0\n",
    "\n",
    "    def handle_data(self, data):\n",
    "        if self.indent_level >= 0:\n",
    "            self.headings.append((' ' * self.indent_level) + data.strip())\n",
    "\n",
    "    def print_headings(self):\n",
    "        for heading in self.headings:\n",
    "            print(heading)\n",
    "\n",
    "if __name__ == \"__main__\":\n",
    "    infile = open('w3c.html')\n",
    "    content = infile.read()\n",
    "    infile.close()\n",
    "\n",
    "    hp = HeadingParser()\n",
    "    hp.feed(content)\n",
    "    hp.print_headings()\n",
    "'''\n",
    "op:\n",
    "\n",
    "\n",
    "\n",
    "\n",
    "Change_me\n",
    "\n",
    "\n",
    "\n",
    "\n",
    "\n",
    "\n",
    "W3C Mission\n",
    "\n",
    " Principles\n",
    " '''"
   ]
  },
  {
   "cell_type": "markdown",
   "id": "e453eeed-81ec-4888-a52b-6b6bc448c2c9",
   "metadata": {},
   "source": [
    "# Question 7"
   ]
  },
  {
   "cell_type": "code",
   "execution_count": 40,
   "id": "f0716f11-ebba-4380-87f2-4c94321b30db",
   "metadata": {},
   "outputs": [
    {
     "name": "stdout",
     "output_type": "stream",
     "text": [
      "http://reed.cs.depaul.edu/lperkovic/csc242/test1.html\n"
     ]
    }
   ],
   "source": [
    "#!/usr/bin/python3\n",
    "import requests\n",
    "from bs4 import BeautifulSoup\n",
    "from urllib.parse import urljoin\n",
    "\n",
    "def webdir(url, depth, indent):\n",
    "    print(' ' * indent + url)\n",
    "    \n",
    "    if depth == 0:\n",
    "        return\n",
    "    \n",
    "    try:\n",
    "        response = requests.get(url)\n",
    "        if response.status_code == 200:\n",
    "            soup = BeautifulSoup(response.text, 'html.parser')\n",
    "            links = soup.find_all('a')\n",
    "            for link in links:\n",
    "                href = link.get('href')\n",
    "                full_url = urljoin(url, href)\n",
    "                webdir(full_url, depth - 1, indent + 2)\n",
    "    except Exception as e:\n",
    "        print(f\"An error occurred: {e}\")\n",
    "\n",
    "webdir('http://reed.cs.depaul.edu/lperkovic/csc242/test1.html', 2, 0)\n",
    "#op: http://reed.cs.depaul.edu/lperkovic/csc242/test1.html"
   ]
  },
  {
   "cell_type": "markdown",
   "id": "71a11250-f855-42a5-a193-8a42fd0b54ef",
   "metadata": {},
   "source": [
    "# Question 8"
   ]
  },
  {
   "cell_type": "code",
   "execution_count": 9,
   "id": "524fd031-25d2-440e-81c9-99ee14d15a97",
   "metadata": {},
   "outputs": [
    {
     "ename": "SyntaxError",
     "evalue": "invalid syntax (4108484524.py, line 2)",
     "output_type": "error",
     "traceback": [
      "\u001b[1;36m  Cell \u001b[1;32mIn[9], line 2\u001b[1;36m\u001b[0m\n\u001b[1;33m    SELECT Temperature\u001b[0m\n\u001b[1;37m           ^\u001b[0m\n\u001b[1;31mSyntaxError\u001b[0m\u001b[1;31m:\u001b[0m invalid syntax\n"
     ]
    }
   ],
   "source": [
    "#a\n",
    "SELECT Temperature\n",
    "FROM table_name;\n",
    "#b\n",
    "SELECT DISTINCT City\n",
    "FROM table_name;\n",
    "#c\n",
    "SELECT *\n",
    "FROM table_name\n",
    "WHERE Country = 'India';\n",
    "#d\n",
    "SELECT *\n",
    "FROM table_name\n",
    "WHERE Season = 'Fall';\n",
    "#e\n",
    "SELECT City, Country, Season\n",
    "FROM table_name\n",
    "GROUP BY City, Country, Season\n",
    "HAVING AVG(Rainfall) BETWEEN 200 AND 400;\n",
    "#f\n",
    "SELECT City, Country\n",
    "FROM table_name\n",
    "WHERE Season = 'Fall'\n",
    "GROUP BY City, Country\n",
    "HAVING AVG(Temperature) > 20\n",
    "ORDER BY AVG(Temperature) ASC;\n",
    "#g\n",
    "SELECT SUM(Rainfall) AS Total_Annual_Rainfall\n",
    "FROM table_name\n",
    "WHERE City = 'Cairo';\n",
    "#h\n",
    "SELECT Season, SUM(Rainfall) AS Total_Rainfall\n",
    "FROM table_name\n",
    "GROUP BY Season;\n"
   ]
  },
  {
   "cell_type": "markdown",
   "id": "57b27980-106e-4baf-a663-d7e6f9cdcfd7",
   "metadata": {},
   "source": [
    "# Question 9"
   ]
  },
  {
   "cell_type": "code",
   "execution_count": 36,
   "id": "ae22d085-ddf9-45ae-b9ff-ef48a3528c9c",
   "metadata": {},
   "outputs": [
    {
     "name": "stdout",
     "output_type": "stream",
     "text": [
      "['THE', 'QUICK', 'BROWN', 'FOX', 'JUMPS', 'OVER', 'THE', 'LAZY', 'DOG']\n",
      "['the', 'quick', 'brown', 'fox', 'jumps', 'over', 'the', 'lazy', 'dog']\n",
      "[3, 5, 5, 3, 5, 4, 3, 4, 3]\n",
      "[['THE', 'the', 3], ['QUICK', 'quick', 5], ['BROWN', 'brown', 5], ['FOX', 'fox', 3], ['JUMPS', 'jumps', 5], ['OVER', 'over', 4], ['THE', 'the', 3], ['LAZY', 'lazy', 4], ['DOG', 'dog', 3]]\n",
      "['quick', 'brown', 'jumps', 'over', 'lazy']\n"
     ]
    }
   ],
   "source": [
    "#!/usr/bin/python3\n",
    "words = ['The', 'quick', 'brown', 'fox', 'jumps', 'over', 'the', 'lazy', 'dog']\n",
    "#a\n",
    "uppercase_words = [word.upper() for word in words]\n",
    "\n",
    "print(uppercase_words)\n",
    "#op: ['THE', 'QUICK', 'BROWN', 'FOX', 'JUMPS', 'OVER', 'THE', 'LAZY', 'DOG']\n",
    "#b\n",
    "lowercase_words = [word.lower() for word in words]\n",
    "\n",
    "print(lowercase_words)\n",
    "#op: ['the', 'quick', 'brown', 'fox', 'jumps', 'over', 'the', 'lazy', 'dog']\n",
    "#c\n",
    "length_word = [len(word) for word in words]\n",
    "\n",
    "print(length_word)\n",
    "#op: [3, 5, 5, 3, 5, 4, 3, 4, 3]\n",
    "#d\n",
    "details = [[word.upper(), word.lower(), len(word)] for word in words]\n",
    "\n",
    "print(details)\n",
    "'''\n",
    "op:\n",
    "[['THE', 'the', 3],\n",
    " ['QUICK', 'quick', 5],\n",
    " ['BROWN', 'brown', 5],\n",
    " ['FOX', 'fox', 3],\n",
    " ['JUMPS', 'jumps', 5],\n",
    " ['OVER', 'over', 4],\n",
    " ['THE', 'the', 3],\n",
    " ['LAZY', 'lazy', 4],\n",
    " ['DOG', 'dog', 3]]\n",
    "'''\n",
    "#e\n",
    "long_words = [word for word in words if len(word) >= 4]\n",
    "\n",
    "print(long_words)\n",
    "#op: ['quick', 'brown', 'jumps', 'over', 'lazy']"
   ]
  },
  {
   "cell_type": "code",
   "execution_count": null,
   "id": "54b773ff-9d6d-40ff-9496-a8632ad2b4eb",
   "metadata": {},
   "outputs": [],
   "source": []
  }
 ],
 "metadata": {
  "kernelspec": {
   "display_name": "Python 3 (ipykernel)",
   "language": "python",
   "name": "python3"
  },
  "language_info": {
   "codemirror_mode": {
    "name": "ipython",
    "version": 3
   },
   "file_extension": ".py",
   "mimetype": "text/x-python",
   "name": "python",
   "nbconvert_exporter": "python",
   "pygments_lexer": "ipython3",
   "version": "3.12.4"
  }
 },
 "nbformat": 4,
 "nbformat_minor": 5
}
